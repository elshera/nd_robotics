{
 "cells": [
  {
   "cell_type": "markdown",
   "metadata": {},
   "source": [
    "## Illustrate the usage of Sympy. Rotation Matrexes and Kinematics"
   ]
  },
  {
   "cell_type": "code",
   "execution_count": 1,
   "metadata": {
    "collapsed": true
   },
   "outputs": [],
   "source": [
    "# Import the required modules\n",
    "from sympy import symbols, cos, sin, pi, simplify, atan2, sqrt\n",
    "from sympy.matrices import Matrix\n",
    "import numpy as np"
   ]
  },
  {
   "cell_type": "code",
   "execution_count": 2,
   "metadata": {
    "collapsed": true
   },
   "outputs": [],
   "source": [
    "# Conversion Factors\n",
    "rtd = 180./np.pi # radians to degrees\n",
    "dtr = np.pi/180. # degrees to radian"
   ]
  },
  {
   "cell_type": "markdown",
   "metadata": {},
   "source": [
    "** Rotation Matrixes in 3D Space **"
   ]
  },
  {
   "cell_type": "code",
   "execution_count": 3,
   "metadata": {
    "collapsed": true
   },
   "outputs": [],
   "source": [
    "## Build the rotation matrix versus the x, y and z axes\n",
    "def R_x(q):\n",
    "    return Matrix([[ 1,      0,       0],\n",
    "                   [ 0, cos(q), -sin(q)],\n",
    "                   [ 0, sin(q),  cos(q)]])    \n",
    "    \n",
    "def R_y(q):\n",
    "    return Matrix([[  cos(q), 0, sin(q)],\n",
    "                   [       0, 1,      0],\n",
    "                   [ -sin(q), 0, cos(q)]])\n",
    "        \n",
    "def R_z(q):\n",
    "    return Matrix([[ cos(q), -sin(q), 0],\n",
    "                   [ sin(q),  cos(q), 0],\n",
    "                   [      0,       0, 1]])"
   ]
  },
  {
   "cell_type": "code",
   "execution_count": 4,
   "metadata": {},
   "outputs": [
    {
     "name": "stdout",
     "output_type": "stream",
     "text": [
      "Rotation about the X-axis by 45-degrees\n",
      "Matrix([[1, 0, 0], [0, 0.707106781186548, -0.707106781186547], [0, 0.707106781186547, 0.707106781186548]])\n"
     ]
    }
   ],
   "source": [
    "## Evaluate the matrix for a rotation on the x axes by 45degree\n",
    "print(\"Rotation about the X-axis by 45-degrees\")\n",
    "print(R_x(45*dtr))"
   ]
  },
  {
   "cell_type": "code",
   "execution_count": 5,
   "metadata": {},
   "outputs": [
    {
     "name": "stdout",
     "output_type": "stream",
     "text": [
      "Rotation about the y-axis by 45-degrees\n",
      "Matrix([[0.707106781186548, 0, 0.707106781186547], [0, 1, 0], [-0.707106781186547, 0, 0.707106781186548]])\n"
     ]
    }
   ],
   "source": [
    "print(\"Rotation about the y-axis by 45-degrees\")\n",
    "print(R_y(45*dtr))"
   ]
  },
  {
   "cell_type": "code",
   "execution_count": 6,
   "metadata": {},
   "outputs": [
    {
     "name": "stdout",
     "output_type": "stream",
     "text": [
      "Rotation about the Z-axis by 30-degrees\n",
      "Matrix([[0.866025403784439, -0.500000000000000, 0], [0.500000000000000, 0.866025403784439, 0], [0, 0, 1]])\n"
     ]
    }
   ],
   "source": [
    "print(\"Rotation about the Z-axis by 30-degrees\")\n",
    "print(R_z(30*dtr))"
   ]
  },
  {
   "cell_type": "markdown",
   "metadata": {},
   "source": [
    "** Combined Rotation Matrix. Note! that the sequence is important as the end result is not the same **"
   ]
  },
  {
   "cell_type": "code",
   "execution_count": 7,
   "metadata": {},
   "outputs": [
    {
     "name": "stdout",
     "output_type": "stream",
     "text": [
      "Matrix([[0.612372435695795, -0.353553390593274, 0.707106781186547], [0.786566092485493, 0.362372435695795, -0.500000000000000], [-0.0794593112989457, 0.862372435695794, 0.500000000000000]])\n",
      "Matrix([[0.612372435695795, 0.0794593112989455, 0.786566092485493], [0.353553390593274, 0.862372435695794, -0.362372435695795], [-0.707106781186547, 0.500000000000000, 0.500000000000000]])\n",
      "Matrix([[0.862372435695794, 0.0794593112989455, 0.500000000000000], [0.353553390593274, 0.612372435695795, -0.707106781186547], [-0.362372435695794, 0.786566092485493, 0.500000000000000]])\n"
     ]
    }
   ],
   "source": [
    "R_xyz = simplify(R_x(45*dtr) * R_y(45*dtr) * R_z(30*dtr))\n",
    "R_zyx = simplify(R_z(30*dtr) * R_y(45*dtr) * R_x(45*dtr))\n",
    "R_yxz = simplify(R_y(45*dtr) * R_x(45*dtr) * R_z(30*dtr))\n",
    "\n",
    "print(R_xyz)\n",
    "print(R_zyx)\n",
    "print(R_yxz)"
   ]
  },
  {
   "cell_type": "markdown",
   "metadata": {},
   "source": [
    "** Calculate Roll, Pitch and Yaw angle given a rotation matrix **"
   ]
  },
  {
   "cell_type": "code",
   "execution_count": 8,
   "metadata": {
    "collapsed": true
   },
   "outputs": [],
   "source": [
    "# Fixed Axis X-Y-Z Given Rotation Matrix\n",
    "R_XYZ = Matrix([[ 0.353553390593274, -0.306186217847897, 0.883883476483184],\n",
    "                [ 0.353553390593274,  0.918558653543692, 0.176776695296637],\n",
    "                [-0.866025403784439,               0.25, 0.433012701892219]])"
   ]
  },
  {
   "cell_type": "code",
   "execution_count": 9,
   "metadata": {
    "collapsed": true
   },
   "outputs": [],
   "source": [
    "# calculate the paramters so to enable the composit rotation to get to the final position as per the above matrix.\n",
    "r31 = R_XYZ[2,0]\n",
    "r11 = R_XYZ[0,0]\n",
    "r21 = R_XYZ[1,0]\n",
    "r32 = R_XYZ[2,1]\n",
    "r33 = R_XYZ[2,2]"
   ]
  },
  {
   "cell_type": "code",
   "execution_count": 10,
   "metadata": {
    "collapsed": true
   },
   "outputs": [],
   "source": [
    "### Euler Angles from Rotation Matrix\n",
    "beta  = atan2(-r31, sqrt(r11 * r11 + r21 * r21)) * rtd\n",
    "gamma = atan2(r32, r33) * rtd\n",
    "alpha = atan2(r21, r11) * rtd"
   ]
  },
  {
   "cell_type": "code",
   "execution_count": 14,
   "metadata": {},
   "outputs": [
    {
     "data": {
      "text/plain": [
       "0.250000000000000"
      ]
     },
     "execution_count": 14,
     "metadata": {},
     "output_type": "execute_result"
    }
   ],
   "source": [
    "R_XYZ[2,1]"
   ]
  },
  {
   "cell_type": "markdown",
   "metadata": {
    "collapsed": true
   },
   "source": [
    "## Homogeneus Transform"
   ]
  },
  {
   "cell_type": "code",
   "execution_count": 11,
   "metadata": {
    "collapsed": true
   },
   "outputs": [],
   "source": [
    "# Calculate the position of a point P, which is known with respect to a frame B. Frame B is relative to the frame A. \n",
    "# Construct P in {B} represent the translation\n",
    "P = Matrix([[15.0],[0.0],[42.0],[1]])"
   ]
  },
  {
   "cell_type": "code",
   "execution_count": 13,
   "metadata": {
    "collapsed": true
   },
   "outputs": [],
   "source": [
    "# Define Homogeneous Transform. _Note that this is only for a rotation in the Y axes.\n",
    "qy = symbols('qy')\n",
    "T = Matrix([[ cos(qy),   0,  sin(qy),    1.],\n",
    "            [ 0,         1,        0,    0.],\n",
    "            [ -sin(qy),  0,  cos(qy),   30.], \n",
    "            [ 0,       0,          0,   1 ]])"
   ]
  },
  {
   "cell_type": "code",
   "execution_count": 14,
   "metadata": {},
   "outputs": [
    {
     "name": "stdout",
     "output_type": "stream",
     "text": [
      "P_new is : Matrix([[42.0*sin(qy) + 15.0*cos(qy) + 1.0], [0], [-15.0*sin(qy) + 42.0*cos(qy) + 30.0], [1]])\n"
     ]
    }
   ],
   "source": [
    "# Calculate new coordinates of P in {A}\n",
    "P_inA = simplify(T * P)\n",
    "print(\"P_new is :\", P_inA)"
   ]
  },
  {
   "cell_type": "code",
   "execution_count": 15,
   "metadata": {},
   "outputs": [
    {
     "name": "stdout",
     "output_type": "stream",
     "text": [
      "The new coordinates of P_inA are : Matrix([[35.3367879231231], [0], [1.53976466853329], [1.00000000000000]])\n"
     ]
    }
   ],
   "source": [
    "# Evaluate numerically\n",
    "print(\"The new coordinates of P_inA are :\", P_inA.evalf(subs={qy: 110*dtr}))"
   ]
  },
  {
   "cell_type": "markdown",
   "metadata": {},
   "source": [
    "** DH parameters (Example of SCARA manipulator)**"
   ]
  },
  {
   "cell_type": "code",
   "execution_count": 16,
   "metadata": {
    "collapsed": true
   },
   "outputs": [],
   "source": [
    "### Create symbols for joint variables\n",
    "# angles between X axis\n",
    "theta1, theta2, theta3, theta4 = symbols('theta1:5')\n",
    "# distances between X axis\n",
    "d1, d2, d3, d4 = symbols('d1:5')\n",
    "# distances between Z axis\n",
    "a0, a1, a2, a3 = symbols('a0:4')\n",
    "# angles between Z-axes\n",
    "alpha0, alpha1, alpha2, alpha3 = symbols('alpha0:4')"
   ]
  },
  {
   "cell_type": "code",
   "execution_count": 17,
   "metadata": {
    "collapsed": true
   },
   "outputs": [],
   "source": [
    "# DH Parameters Table, described as a dictionary for the SCARA, with known values assigned\n",
    "DH ={alpha0: 0,  a0:    0, d1:  0, theta1: theta1,\n",
    "     alpha1: 0,  a1: 0.45, d2:  0, theta2: theta2,\n",
    "     alpha2: 0,  a2: 0.30, d2: d2, theta3:      0,\n",
    "     alpha3: 0,  a3:    0, d4:  0, theta4: theta4\n",
    "    }"
   ]
  },
  {
   "cell_type": "markdown",
   "metadata": {},
   "source": [
    "** Generalized Homogeneous Transform between 2 links **"
   ]
  },
  {
   "cell_type": "code",
   "execution_count": 18,
   "metadata": {
    "collapsed": true
   },
   "outputs": [],
   "source": [
    "def ghmt(alpha, a, d, theta, dh):\n",
    "    HTM =  Matrix([[            cos(theta),           -sin(theta),           0,             a],\n",
    "                   [ sin(theta)*cos(alpha), cos(theta)*cos(alpha), -sin(alpha), -sin(alpha)*d],\n",
    "                   [ sin(theta)*sin(alpha), cos(theta)*sin(alpha),  cos(alpha),  cos(alpha)*d],\n",
    "                   [                     0,                      0,          0,             1]])\n",
    "    return HTM.subs(dh)"
   ]
  },
  {
   "cell_type": "code",
   "execution_count": 19,
   "metadata": {
    "collapsed": true
   },
   "outputs": [],
   "source": [
    "#### Homogeneous Transforms fo all the link pairs\n",
    "T0_1 = ghmt(alpha0, a0, d1, theta1, DH)\n",
    "T1_2 = ghmt(alpha1, a1, d2, theta2, DH)\n",
    "T2_3 = ghmt(alpha2, a2, d3, theta3, DH)\n",
    "T3_4 = ghmt(alpha3, a3, d4, theta4, DH)"
   ]
  },
  {
   "cell_type": "code",
   "execution_count": 20,
   "metadata": {},
   "outputs": [
    {
     "name": "stdout",
     "output_type": "stream",
     "text": [
      "Matrix([[cos(theta1 + theta2 + theta4), -sin(theta1 + theta2 + theta4), 0, 0.45*cos(theta1) + 0.3*cos(theta1 + theta2)], [sin(theta1 + theta2 + theta4), cos(theta1 + theta2 + theta4), 0, 0.45*sin(theta1) + 0.3*sin(theta1 + theta2)], [0, 0, 1, d2 + d3], [0, 0, 0, 1]])\n"
     ]
    }
   ],
   "source": [
    "# Transform from base link to end effector\n",
    "T0_4 = simplify(T0_1 * T1_2 * T2_3 * T3_4)\n",
    "print(T0_4)"
   ]
  },
  {
   "cell_type": "code",
   "execution_count": 21,
   "metadata": {},
   "outputs": [
    {
     "name": "stdout",
     "output_type": "stream",
     "text": [
      "Matrix([[1.00000000000000, 0, 0, 0.750000000000000], [0, 1.00000000000000, 0, 0], [0, 0, 1.00000000000000, d2 + d3], [0, 0, 0, 1.00000000000000]])\n"
     ]
    }
   ],
   "source": [
    "# Evaluate now for particular values\n",
    "print(T0_4.evalf(subs={theta1: 0, theta2: 0, d3: -0.5, theta4: 0}))"
   ]
  },
  {
   "cell_type": "markdown",
   "metadata": {
    "collapsed": true
   },
   "source": [
    "## Project Code"
   ]
  },
  {
   "cell_type": "code",
   "execution_count": 22,
   "metadata": {
    "collapsed": true
   },
   "outputs": [],
   "source": [
    "### Create symbols for joint variables\n",
    "# angles between X axis\n",
    "theta1, theta2, theta3, theta4, theta5, theta6, theta7 = symbols('theta1:8')\n",
    "# distances between X axis\n",
    "d1, d2, d3, d4, d5, d6, d7 = symbols('d1:8')\n",
    "# distances between Z axis\n",
    "a0, a1, a2, a3, a4, a5, a6 = symbols('a0:7')\n",
    "# angles between Z-axes\n",
    "alpha0, alpha1, alpha2, alpha3, alpha4, alpha5, alpha6 = symbols('alpha0:7')"
   ]
  },
  {
   "cell_type": "code",
   "execution_count": 23,
   "metadata": {
    "collapsed": true
   },
   "outputs": [],
   "source": [
    "# DH Parameters Table, described as a dictionary for the SCARA, with known values assigned\n",
    "DH ={alpha0:     0,  a0:      0, d1:  0.75, theta1:      theta1,\n",
    "     alpha1: -pi/2,  a1:   0.35, d2:     0, theta2: theta2-pi/2, \n",
    "     alpha2:     0,  a2:   1.25, d3:     0, theta3:      theta3,\n",
    "     alpha3: -pi/2,  a3: -0.054, d4:  1.50, theta4:      theta4,\n",
    "     alpha4: -pi/2,  a4:      0, d5:     0, theta5:      theta5,\n",
    "     alpha5: -pi/2,  a5:      0, d6:     0, theta6:      theta6,\n",
    "     alpha6:     0,  a6:      0, d7: 0.303, theta7:           0\n",
    "    }"
   ]
  },
  {
   "cell_type": "code",
   "execution_count": 24,
   "metadata": {
    "collapsed": true
   },
   "outputs": [],
   "source": [
    "# Homogeneous Transforms fo all the link pairs\n",
    "T0_1 = ghmt(alpha0, a0, d1, theta1, DH)\n",
    "T1_2 = ghmt(alpha1, a1, d2, theta2, DH)\n",
    "T2_3 = ghmt(alpha2, a2, d3, theta3, DH)\n",
    "T3_4 = ghmt(alpha3, a3, d4, theta4, DH)\n",
    "T4_5 = ghmt(alpha4, a4, d5, theta5, DH)\n",
    "T5_6 = ghmt(alpha5, a5, d6, theta6, DH)\n",
    "T6_E = ghmt(alpha6, a6, d7, theta7, DH)"
   ]
  },
  {
   "cell_type": "code",
   "execution_count": 25,
   "metadata": {},
   "outputs": [
    {
     "name": "stdout",
     "output_type": "stream",
     "text": [
      "Matrix([[((sin(theta1)*sin(theta4) + sin(theta2 + theta3)*cos(theta1)*cos(theta4))*cos(theta5) - sin(theta5)*cos(theta1)*cos(theta2 + theta3))*cos(theta6) + (-sin(theta1)*cos(theta4) + sin(theta4)*sin(theta2 + theta3)*cos(theta1))*sin(theta6), -((sin(theta1)*sin(theta4) + sin(theta2 + theta3)*cos(theta1)*cos(theta4))*cos(theta5) - sin(theta5)*cos(theta1)*cos(theta2 + theta3))*sin(theta6) - (sin(theta1)*cos(theta4) - sin(theta4)*sin(theta2 + theta3)*cos(theta1))*cos(theta6), -(sin(theta1)*sin(theta4) + sin(theta2 + theta3)*cos(theta1)*cos(theta4))*sin(theta5) - cos(theta1)*cos(theta5)*cos(theta2 + theta3), -0.303*sin(theta1)*sin(theta4)*sin(theta5) + 1.25*sin(theta2)*cos(theta1) - 0.303*sin(theta5)*sin(theta2 + theta3)*cos(theta1)*cos(theta4) - 0.054*sin(theta2 + theta3)*cos(theta1) - 0.303*cos(theta1)*cos(theta5)*cos(theta2 + theta3) + 1.5*cos(theta1)*cos(theta2 + theta3) + 0.35*cos(theta1)], [((sin(theta1)*sin(theta2 + theta3)*cos(theta4) - sin(theta4)*cos(theta1))*cos(theta5) - sin(theta1)*sin(theta5)*cos(theta2 + theta3))*cos(theta6) + (sin(theta1)*sin(theta4)*sin(theta2 + theta3) + cos(theta1)*cos(theta4))*sin(theta6), -((sin(theta1)*sin(theta2 + theta3)*cos(theta4) - sin(theta4)*cos(theta1))*cos(theta5) - sin(theta1)*sin(theta5)*cos(theta2 + theta3))*sin(theta6) + (sin(theta1)*sin(theta4)*sin(theta2 + theta3) + cos(theta1)*cos(theta4))*cos(theta6), -(sin(theta1)*sin(theta2 + theta3)*cos(theta4) - sin(theta4)*cos(theta1))*sin(theta5) - sin(theta1)*cos(theta5)*cos(theta2 + theta3), 1.25*sin(theta1)*sin(theta2) - 0.303*sin(theta1)*sin(theta5)*sin(theta2 + theta3)*cos(theta4) - 0.054*sin(theta1)*sin(theta2 + theta3) - 0.303*sin(theta1)*cos(theta5)*cos(theta2 + theta3) + 1.5*sin(theta1)*cos(theta2 + theta3) + 0.35*sin(theta1) + 0.303*sin(theta4)*sin(theta5)*cos(theta1)], [(sin(theta5)*sin(theta2 + theta3) + cos(theta4)*cos(theta5)*cos(theta2 + theta3))*cos(theta6) + sin(theta4)*sin(theta6)*cos(theta2 + theta3), -(sin(theta5)*sin(theta2 + theta3) + cos(theta4)*cos(theta5)*cos(theta2 + theta3))*sin(theta6) + sin(theta4)*cos(theta6)*cos(theta2 + theta3), -sin(theta5)*cos(theta4)*cos(theta2 + theta3) + sin(theta2 + theta3)*cos(theta5), -0.303*sin(theta5)*cos(theta4)*cos(theta2 + theta3) + 0.303*sin(theta2 + theta3)*cos(theta5) - 1.5*sin(theta2 + theta3) + 1.25*cos(theta2) - 0.054*cos(theta2 + theta3) + 0.75], [0, 0, 0, 1]])\n"
     ]
    }
   ],
   "source": [
    "# Incrementally Build the homogeneous transforms between base link and the grip\n",
    "T0_E = simplify(T0_1 * T1_2 * T2_3 * T3_4 * T4_5 * T5_6 * T6_E)\n",
    "print(T0_E)"
   ]
  },
  {
   "cell_type": "code",
   "execution_count": 26,
   "metadata": {},
   "outputs": [
    {
     "name": "stdout",
     "output_type": "stream",
     "text": [
      "Matrix([[0, 0, -1.00000000000000, 1.54700000000000], [0, 1.00000000000000, 0, 0], [1.00000000000000, 0, 0, 1.94600000000000], [0, 0, 0, 1.00000000000000]])\n"
     ]
    }
   ],
   "source": [
    "# Evaluate now for particular values\n",
    "print(T0_E.evalf(subs={theta1: 0, theta2: 0, theta3: 0, theta4: 0, theta5: 0, theta6: 0, theta7: 0}))"
   ]
  },
  {
   "cell_type": "code",
   "execution_count": null,
   "metadata": {
    "collapsed": true
   },
   "outputs": [],
   "source": [
    "# Correction needed to account for the differences in orientation between the DH format and the URDF description of the grip\n",
    "T_y = Matrix([[ cos(-np.pi/2),        0,  sin(-np.pi/2),  0],\n",
    "              [             0,        1,              0,  0],\n",
    "              [-sin(-np.pi/2),        0,  cos(-np.pi/2),  0],\n",
    "              [             0,        0,              0,  1]])\n",
    "\n",
    "T_z = Matrix([[ cos(np.pi), -sin(np.pi),        0,  0],\n",
    "              [ sin(np.pi),  cos(np.pi),        0,  0],\n",
    "              [         0,            0,        1,  0],\n",
    "              [         0,            0,        0,  1]])\n",
    "\n",
    "T_Corr = simplify(T_z * T_y)"
   ]
  },
  {
   "cell_type": "code",
   "execution_count": null,
   "metadata": {
    "collapsed": true
   },
   "outputs": [],
   "source": [
    "# Total homogeneous transform\n",
    "T_Total = simplify(T0_7 * T_Corr)\n",
    "print(T_Total)"
   ]
  },
  {
   "cell_type": "code",
   "execution_count": null,
   "metadata": {
    "collapsed": true
   },
   "outputs": [],
   "source": [
    "# Evaluate now for particular values\n",
    "print(T_Total.evalf(subs={theta1: 2.72, theta2: -0.41, theta3: -0.69, theta4: -1.28, theta5: 0.45, theta6: -1.04, theta7: 0}))"
   ]
  },
  {
   "cell_type": "markdown",
   "metadata": {},
   "source": [
    "Matrix([[  -0.917120822816605,  4.88155637626401e-17,    -0.398609327984423, 0.971056868642107],\n",
    "        [7.49879891330929e-33,     -1.00000000000000, -1.22464679914735e-16,                 0],\n",
    "        [  -0.398609327984423, -1.12314908009374e-16,     0.917120822816605,  2.32401186968601],\n",
    "        [                   0,                     0,                     0,  1.00000000000000]])"
   ]
  }
 ],
 "metadata": {
  "kernelspec": {
   "display_name": "Python 3",
   "language": "python",
   "name": "python3"
  },
  "language_info": {
   "codemirror_mode": {
    "name": "ipython",
    "version": 3
   },
   "file_extension": ".py",
   "mimetype": "text/x-python",
   "name": "python",
   "nbconvert_exporter": "python",
   "pygments_lexer": "ipython3",
   "version": "3.6.3"
  }
 },
 "nbformat": 4,
 "nbformat_minor": 2
}
